{
 "cells": [
  {
   "cell_type": "code",
   "execution_count": 67,
   "metadata": {},
   "outputs": [],
   "source": [
    "import numpy as np\n",
    "import pandas as pd\n",
    "import json\n",
    "import pprint\n",
    "import re\n"
   ]
  },
  {
   "cell_type": "code",
   "execution_count": 89,
   "metadata": {},
   "outputs": [],
   "source": [
    "with open('jairbolsonaro.json', 'r', encoding='utf8') as json_file:\n",
    "    words = json.load(json_file)"
   ]
  },
  {
   "cell_type": "code",
   "execution_count": 91,
   "metadata": {},
   "outputs": [],
   "source": [
    "DF = pd.DataFrame(data=words)"
   ]
  },
  {
   "cell_type": "code",
   "execution_count": 92,
   "metadata": {},
   "outputs": [],
   "source": [
    "def remove_emoji(string):\n",
    "    emoji_pattern = re.compile(\"[\"\n",
    "                           u\"\\U0001F600-\\U0001F64F\"  # emoticons\n",
    "                           u\"\\U0001F300-\\U0001F5FF\"  # symbols & pictographs\n",
    "                           u\"\\U0001F680-\\U0001F6FF\"  # transport & map symbols\n",
    "                           u\"\\U0001F1E0-\\U0001F1FF\"  # flags (iOS)\n",
    "                           u\"\\U00002702-\\U000027B0\"\n",
    "                           u\"\\U000024C2-\\U0001F251\"\n",
    "                           \"]+\", flags=re.UNICODE)\n",
    "    return emoji_pattern.sub(r'', string)"
   ]
  },
  {
   "cell_type": "code",
   "execution_count": 144,
   "metadata": {},
   "outputs": [
    {
     "data": {
      "text/html": [
       "<div>\n",
       "<style scoped>\n",
       "    .dataframe tbody tr th:only-of-type {\n",
       "        vertical-align: middle;\n",
       "    }\n",
       "\n",
       "    .dataframe tbody tr th {\n",
       "        vertical-align: top;\n",
       "    }\n",
       "\n",
       "    .dataframe thead th {\n",
       "        text-align: right;\n",
       "    }\n",
       "</style>\n",
       "<table border=\"1\" class=\"dataframe\">\n",
       "  <thead>\n",
       "    <tr style=\"text-align: right;\">\n",
       "      <th></th>\n",
       "      <th>0</th>\n",
       "    </tr>\n",
       "    <tr>\n",
       "      <th>palavras</th>\n",
       "      <th></th>\n",
       "    </tr>\n",
       "  </thead>\n",
       "  <tbody>\n",
       "    <tr>\n",
       "      <th></th>\n",
       "      <td>1678</td>\n",
       "    </tr>\n",
       "    <tr>\n",
       "      <th>'a</th>\n",
       "      <td>1</td>\n",
       "    </tr>\n",
       "    <tr>\n",
       "      <th>'brincando'</th>\n",
       "      <td>1</td>\n",
       "    </tr>\n",
       "    <tr>\n",
       "      <th>'bunda-suja</th>\n",
       "      <td>1</td>\n",
       "    </tr>\n",
       "    <tr>\n",
       "      <th>'fora</th>\n",
       "      <td>1</td>\n",
       "    </tr>\n",
       "    <tr>\n",
       "      <th>...</th>\n",
       "      <td>...</td>\n",
       "    </tr>\n",
       "    <tr>\n",
       "      <th>únicos</th>\n",
       "      <td>5</td>\n",
       "    </tr>\n",
       "    <tr>\n",
       "      <th>úteis</th>\n",
       "      <td>9</td>\n",
       "    </tr>\n",
       "    <tr>\n",
       "      <th>útil</th>\n",
       "      <td>5</td>\n",
       "    </tr>\n",
       "    <tr>\n",
       "      <th>​</th>\n",
       "      <td>1</td>\n",
       "    </tr>\n",
       "    <tr>\n",
       "      <th>€2</th>\n",
       "      <td>1</td>\n",
       "    </tr>\n",
       "  </tbody>\n",
       "</table>\n",
       "<p>21678 rows × 1 columns</p>\n",
       "</div>"
      ],
      "text/plain": [
       "                0\n",
       "palavras         \n",
       "             1678\n",
       "'a              1\n",
       "'brincando'     1\n",
       "'bunda-suja     1\n",
       "'fora           1\n",
       "...           ...\n",
       "únicos          5\n",
       "úteis           9\n",
       "útil            5\n",
       "​               1\n",
       "€2              1\n",
       "\n",
       "[21678 rows x 1 columns]"
      ]
     },
     "execution_count": 144,
     "metadata": {},
     "output_type": "execute_result"
    }
   ],
   "source": [
    "DF['created_at']\n",
    "DF['full_text'].value_counts().iloc[:10]\n",
    "DF['palavras'] = DF['full_text'].apply(lambda x: x.split())\n",
    "# DF['ano'] =DF['created_at'].apply(lambda x: str(x)[25:32])\n",
    "# DF.groupby('ano').count()\n",
    "# DF['palavras'].value_counts()\n",
    "minha_palavra = list(DF['palavras'])    \n",
    "novo_conjunto = []\n",
    "for a in minha_palavra:\n",
    "    nova_lista = [] \n",
    "    for b in a:\n",
    "       nova_lista.append(b.split(', '))\n",
    "    novo_conjunto.append(nova_lista)\n",
    "a = novo_conjunto\n",
    "saida = np.concatenate((a))\n",
    "# print(saida)\n",
    "novo_conjunto2 = []\n",
    "for a in saida:\n",
    "    nova_lista2 = [] \n",
    "    for b in a:\n",
    "         b = re.sub('[!@#$🤔🤥👺🥁🤖🚨🚩🤦🦅🤙🤝🚴‍🤗❤”\"\"“&\\ |\\?|\\.|\\!|\\/|\\;''”‘’,\t......–|\\:]', '', b)\n",
    "         b = b.lower()\n",
    "#        nova_lista2.append(re.sub('[!@#$🤔🤥👺🥁🚴‍🚨🚩🚴‍❤\\ |\\?|\\.|\\!|\\/|\\;|\\:]', '', b))\n",
    "         nova_lista2.append(remove_emoji(b))\n",
    "    novo_conjunto2.append(nova_lista2)\n",
    "a2 = novo_conjunto2\n",
    "saida2 = a2\n",
    "DF2 = pd.DataFrame(data=saida2)\n",
    "DF2['palavras'] = DF2[0]\n",
    "# DF2['palavras'].value_counts()\n",
    "# DF2.sort_values(by='palavras')\n",
    "# DF2.sort_values(by='palavras', ascending=False)\n",
    "# DF2.groupby('palavras').count()\n",
    "# DF2.describe()\n",
    "# minha_palavra = list(DF2['palavras'])    \n",
    "# print(minha_palavra)\n",
    "# DF2.sort_values(by='palavras').loc[0:100]\n",
    "DF2.groupby('palavras').count()"
   ]
  },
  {
   "cell_type": "code",
   "execution_count": null,
   "metadata": {},
   "outputs": [],
   "source": []
  }
 ],
 "metadata": {
  "kernelspec": {
   "display_name": "Python 3",
   "language": "python",
   "name": "python3"
  },
  "language_info": {
   "codemirror_mode": {
    "name": "ipython",
    "version": 3
   },
   "file_extension": ".py",
   "mimetype": "text/x-python",
   "name": "python",
   "nbconvert_exporter": "python",
   "pygments_lexer": "ipython3",
   "version": "3.8.5"
  }
 },
 "nbformat": 4,
 "nbformat_minor": 4
}
